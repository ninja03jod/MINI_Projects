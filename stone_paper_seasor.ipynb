{
  "nbformat": 4,
  "nbformat_minor": 0,
  "metadata": {
    "colab": {
      "provenance": [],
      "authorship_tag": "ABX9TyPR1gKHQnmr9Bgf9ZMNom19",
      "include_colab_link": true
    },
    "kernelspec": {
      "name": "python3",
      "display_name": "Python 3"
    },
    "language_info": {
      "name": "python"
    }
  },
  "cells": [
    {
      "cell_type": "markdown",
      "metadata": {
        "id": "view-in-github",
        "colab_type": "text"
      },
      "source": [
        "<a href=\"https://colab.research.google.com/github/ninja03jod/MINI_Projects/blob/main/stone_paper_seasor.ipynb\" target=\"_parent\"><img src=\"https://colab.research.google.com/assets/colab-badge.svg\" alt=\"Open In Colab\"/></a>"
      ]
    },
    {
      "cell_type": "code",
      "execution_count": 1,
      "metadata": {
        "colab": {
          "base_uri": "https://localhost:8080/"
        },
        "id": "7WKCJl79NbvI",
        "outputId": "68a62a89-81cc-400f-acd0-6e625f2f3479"
      },
      "outputs": [
        {
          "output_type": "stream",
          "name": "stdout",
          "text": [
            "select rock,paper or scissor:rock\n",
            "Player 2 selected: paper\n",
            "player1 wins\n"
          ]
        }
      ],
      "source": [
        "import random\n",
        "player1 = input('select rock,paper or scissor:')\n",
        "player2 = random.choice(['rock','paper','scissor'])\n",
        "print('Player 2 selected:',player2)\n",
        "\n",
        "if player1 == 'paper' and player2 == 'rock':\n",
        "  print('player2 won')\n",
        "elif player1 == 'paper' and player2 == 'scissor':\n",
        "  print('player2 won')\n",
        "elif player1 == 'rock' and player2 == 'scissor':\n",
        "  print('player1 won')\n",
        "elif player1 == 'scissor' and player2 == 'rock':\n",
        "  print('player2 won')\n",
        "elif player1==player2:\n",
        "  print('Tie')\n",
        "else:\n",
        "  print('player1 wins')"
      ]
    }
  ]
}